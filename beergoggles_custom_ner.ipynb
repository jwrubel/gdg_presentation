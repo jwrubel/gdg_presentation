{
 "cells": [
  {
   "cell_type": "code",
   "execution_count": null,
   "metadata": {},
   "outputs": [],
   "source": [
    "import spacy"
   ]
  },
  {
   "cell_type": "code",
   "execution_count": null,
   "metadata": {},
   "outputs": [],
   "source": [
    "nlp = spacy.load('output')"
   ]
  },
  {
   "cell_type": "code",
   "execution_count": null,
   "metadata": {},
   "outputs": [],
   "source": [
    "beer_data = nlp(\"2/13/18\\nHOPS\\nEast End Big Hop IPA (PGH) 5.8% .\\nOskar Blues Dales Pales Ale (CO) 6.5%\\nGreen Flash West Coast DIPA (CA) 8.5%\\nNON\\nALC\\nu.) DON\\nSierra Nevada Pale Ale (CA) 5.6%\\nStillwater Micro Pale Ale (MD) 4.5%\\nVictory Blood Orange Agave IPA (PA) 7%\\nStone Inevitable Adventure (CA) 8.9% 10oz\\nSHIR\\nA Mango\\nmint and I\\nNorth Country Pushin' Up Hazes (PA) 5%\\nSierra Nevada Hop Bullet (CA) 8%\\nTroegs Nugget Nectar (PA) 7.5%\\nU.\\nFrozen No\\nPiña Cola\\nSmoothi\\nFat Heads Head Hunter IPA (OH) 7.5%\\nLimited! Atwater No Joke Joker (MI) 8.3%\\nComing Soon! Harpoon Fresh Tracks (MA) 6.2%\\nLimited! Oskar Blues Pinner Throwback IPA (CO) 4.9%\\nComing Soon! Four seaons Nebulous IPA (PA) 6.8%\\nDARK\\nNITRO Guinness Stout (IRE) 5.5%\\nThirsty Dog Leghumper Porter (OH) 6.7%\\nHelltown Mischievous Brown Ale (PA) 5.5%\\nAtwater Bavarian Cream VJP (MI) 5%\\nFull Pint Rye Rebellion Stout (PA) 11% 10oz\\nWHEAT / FRUIT\\nFull Pint White Lightning (PA) 5.5%\\nAce Joker Cider (CA) 6.9%\\nFull Pint Blackberry White Lightning (PA) 5.5%\\nDraai Laag R2 Koelschip (PA) 4.2%\\nDuClaw Devil Made Me Do It (MD) 5.5%\\nAresenal Picket Bone Dry Cider (PA) 8% 10oz\\nOTHER\\nMagic Hat #9 (VT) 4.6%\\nTroeg's Tr egenator Doublebock (PA) 8.2%\\nSly Fox Pikeland Pils (PA) 4.9%\\nNew Belgium Fat Tire Amber Ale (CO) 5.2%\\nUnibroue Maudite (CAN) 8%\\n21st Am. Tales from the Kettle Black Tea Scotch Ale\\nSOLE Pugsley English Mild NITRO (PA) 3.8%\\n2016 Heavy Seas Red Wine BA Below Decks (MD)12%\\nSEASONAL\\nGreat Lakes Conway's Irish Ale (OH) 6.5%\\nBells Christmas Ale (MI) 7.5%\\nEast End Snowmelt (PA) 7%\\nAnderson Valley Winter Solstice (CA) 6.9%\\n\")"
   ]
  },
  {
   "cell_type": "code",
   "execution_count": null,
   "metadata": {},
   "outputs": [],
   "source": [
    "for ent in beer_data.ents:\n",
    "    print(ent.label_, ent.text)"
   ]
  },
  {
   "cell_type": "code",
   "execution_count": null,
   "metadata": {},
   "outputs": [],
   "source": [
    "colors = {\n",
    "    'BREWERY': 'linear-gradient(90deg, #784FFE, #00B2FF)',\n",
    "    'BEER': 'linear-gradient(90deg, #761618, #F39D1D)'\n",
    "}"
   ]
  },
  {
   "cell_type": "code",
   "execution_count": null,
   "metadata": {},
   "outputs": [],
   "source": [
    "options = {'ents': ['BREWERY, BEER'], 'colors': colors}"
   ]
  },
  {
   "cell_type": "code",
   "execution_count": null,
   "metadata": {},
   "outputs": [],
   "source": [
    "# add additional argument options=options to show specific entities\n",
    "spacy.displacy.render(beer_data, jupyter=True, style='ent')"
   ]
  }
 ],
 "metadata": {
  "kernelspec": {
   "display_name": "Python 3",
   "language": "python",
   "name": "python3"
  },
  "language_info": {
   "codemirror_mode": {
    "name": "ipython",
    "version": 3
   },
   "file_extension": ".py",
   "mimetype": "text/x-python",
   "name": "python",
   "nbconvert_exporter": "python",
   "pygments_lexer": "ipython3",
   "version": "3.5.2"
  }
 },
 "nbformat": 4,
 "nbformat_minor": 2
}
